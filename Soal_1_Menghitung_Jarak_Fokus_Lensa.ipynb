{
  "nbformat": 4,
  "nbformat_minor": 0,
  "metadata": {
    "colab": {
      "provenance": []
    },
    "kernelspec": {
      "name": "python3",
      "display_name": "Python 3"
    },
    "language_info": {
      "name": "python"
    }
  },
  "cells": [
    {
      "cell_type": "code",
      "execution_count": 1,
      "metadata": {
        "colab": {
          "base_uri": "https://localhost:8080/"
        },
        "id": "iqdl-GKkz8Dn",
        "outputId": "def52d15-c573-4c2f-b51d-5874ee740bbc"
      },
      "outputs": [
        {
          "output_type": "stream",
          "name": "stdout",
          "text": [
            "----------------------------------------\n",
            "Jarak Fokus Lensa =  18.94736842105263\n"
          ]
        }
      ],
      "source": [
        "n  = 1.5    #Indeks Bias\n",
        "R1 = 20     #Jari-jari kelengkungan, satuan cm\n",
        "R2 = 18\n",
        "\n",
        "F = (n-1)*((1/R1)+(1/R2))\n",
        "F = 1/F\n",
        "\n",
        "print(\"-\"*40)\n",
        "print(\"Jarak Fokus Lensa = \",F)"
      ]
    }
  ]
}