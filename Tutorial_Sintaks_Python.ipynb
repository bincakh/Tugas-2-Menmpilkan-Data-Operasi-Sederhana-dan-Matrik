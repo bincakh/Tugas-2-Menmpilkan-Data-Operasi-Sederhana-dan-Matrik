{
  "nbformat": 4,
  "nbformat_minor": 0,
  "metadata": {
    "colab": {
      "provenance": []
    },
    "kernelspec": {
      "name": "python3",
      "display_name": "Python 3"
    },
    "language_info": {
      "name": "python"
    }
  },
  "cells": [
    {
      "cell_type": "code",
      "execution_count": 36,
      "metadata": {
        "colab": {
          "base_uri": "https://localhost:8080/"
        },
        "id": "_a-qZKP6ooCI",
        "outputId": "0e9c3907-60f2-4684-900f-2076d5a875b3"
      },
      "outputs": [
        {
          "output_type": "stream",
          "name": "stdout",
          "text": [
            "10\n",
            "hasil m+m =  20\n",
            "hasil m x m =  100\n"
          ]
        }
      ],
      "source": [
        "#cara menampilkan hasil\n",
        "m = 10\n",
        "print(m)\n",
        "print(\"hasil m+m = \", m+m)\n",
        "print(\"hasil m x m = \", m*m)\n"
      ]
    },
    {
      "cell_type": "code",
      "source": [
        "#menampilkan karakter\n",
        "kar_1 = 'AKU KUAT'\n",
        "kar_2 = 'AKU HEBAT'\n",
        "kar_3 = 'HARUS SEMANGATTTT'\n",
        "print(kar_1+' '+kar_2+' '+kar_3)\n",
        "print(kar_1[2:10])\n",
        "karakter = 'AKU KUAT AKU HEBAT AKU SEMANGATTTT'\n",
        "print(karakter.split())"
      ],
      "metadata": {
        "colab": {
          "base_uri": "https://localhost:8080/"
        },
        "id": "O6Amj1Mz23ty",
        "outputId": "0cd32a47-79a5-4064-af90-acf4e6e83803"
      },
      "execution_count": 37,
      "outputs": [
        {
          "output_type": "stream",
          "name": "stdout",
          "text": [
            "AKU KUAT AKU HEBAT HARUS SEMANGATTTT\n",
            "U KUAT\n",
            "['AKU', 'KUAT', 'AKU', 'HEBAT', 'AKU', 'SEMANGATTTT']\n"
          ]
        }
      ]
    },
    {
      "cell_type": "code",
      "source": [
        "from math import sqrt\n",
        "from math import pi\n",
        "\n",
        "#operasi hitungan sederhana\n",
        "a = 25\n",
        "b = 25\n",
        "c = 2.5\n",
        "d = 25/5\n",
        "\n",
        "print(a+b)\n",
        "print(\"bentuk bilangan integer = \", int(b))\n",
        "print(\"bentuk bilangan float = \", float(a))\n",
        "print(\"perkalian c x d = \", c*d)\n",
        "print(\"-----------------------\")\n",
        "print(\"contoh soal\")\n",
        "print(\"Tentukan kecepatan (v) dengan usaha (w) = 35; jarak (s) = 25; waktu(t) = 5)\")\n",
        "w = 35\n",
        "s = 25\n",
        "t = 5"
      ],
      "metadata": {
        "colab": {
          "base_uri": "https://localhost:8080/"
        },
        "id": "Ma6JUWSQ28yA",
        "outputId": "f50d135f-e3ac-4f29-8a48-b2f4943bca0b"
      },
      "execution_count": 38,
      "outputs": [
        {
          "output_type": "stream",
          "name": "stdout",
          "text": [
            "50\n",
            "bentuk bilangan integer =  25\n",
            "bentuk bilangan float =  25.0\n",
            "perkalian c x d =  12.5\n",
            "-----------------------\n",
            "contoh soal\n",
            "Tentukan kecepatan (v) dengan usaha (w) = 35; jarak (s) = 25; waktu(t) = 5)\n"
          ]
        }
      ]
    },
    {
      "cell_type": "code",
      "source": [
        "#v = s/t\n",
        "kecepatan = s/t\n",
        "print(kecepatan, \"m/s\")\n",
        "     "
      ],
      "metadata": {
        "colab": {
          "base_uri": "https://localhost:8080/"
        },
        "id": "Lf4LAobc3AiD",
        "outputId": "d4d50240-0115-40c5-b656-e6eaf822ec27"
      },
      "execution_count": 39,
      "outputs": [
        {
          "output_type": "stream",
          "name": "stdout",
          "text": [
            "5.0 m/s\n"
          ]
        }
      ]
    },
    {
      "cell_type": "code",
      "source": [
        "print(\"-----------------------\")\n",
        "print(\"soal 1\")\n",
        "print(\"Tentukan energi dalam J dari m = 9.31x10^-31; c = 3*10^8\")\n",
        "m = 9.31*10**-31\n",
        "c = 3*10**8\n"
      ],
      "metadata": {
        "colab": {
          "base_uri": "https://localhost:8080/"
        },
        "id": "pJ0PHfFO3HMx",
        "outputId": "2268d4f5-6b0c-4b1c-bb3f-b93e204b618d"
      },
      "execution_count": 40,
      "outputs": [
        {
          "output_type": "stream",
          "name": "stdout",
          "text": [
            "-----------------------\n",
            "soal 1\n",
            "Tentukan energi dalam J dari m = 9.31x10^-31; c = 3*10^8\n"
          ]
        }
      ]
    },
    {
      "cell_type": "code",
      "source": [
        "#energi\n",
        "E = m * c**2\n",
        "print(E)"
      ],
      "metadata": {
        "colab": {
          "base_uri": "https://localhost:8080/"
        },
        "id": "0GuFIOFU3LjF",
        "outputId": "aa0711d5-b05e-4b71-9cb5-7708ee485f9e"
      },
      "execution_count": 41,
      "outputs": [
        {
          "output_type": "stream",
          "name": "stdout",
          "text": [
            "8.379e-14\n"
          ]
        }
      ]
    },
    {
      "cell_type": "code",
      "source": [
        "print(\"-----------------------\")\n",
        "print(\"soal 2\")\n",
        "print(\"Tentukan periode dalam s (l = 20 m ; g = 9.8 m/s^2)\")\n",
        "l = 20\n",
        "g = 9.8"
      ],
      "metadata": {
        "colab": {
          "base_uri": "https://localhost:8080/"
        },
        "id": "Z-o1LXNm3Ovm",
        "outputId": "620319bb-bf94-4971-9f47-2381966d6ec8"
      },
      "execution_count": 42,
      "outputs": [
        {
          "output_type": "stream",
          "name": "stdout",
          "text": [
            "-----------------------\n",
            "soal 2\n",
            "Tentukan periode dalam s (l = 20 m ; g = 9.8 m/s^2)\n"
          ]
        }
      ]
    },
    {
      "cell_type": "code",
      "source": [
        "#periode = 2 x pi x sqrt (l/g)\n",
        "periode = 2 * pi * sqrt (l/g)\n",
        "print (periode)"
      ],
      "metadata": {
        "colab": {
          "base_uri": "https://localhost:8080/"
        },
        "id": "50VL5ho13RyT",
        "outputId": "60ddf0d7-351a-4eca-b77d-0c21b21905a2"
      },
      "execution_count": 43,
      "outputs": [
        {
          "output_type": "stream",
          "name": "stdout",
          "text": [
            "8.975979010256552\n"
          ]
        }
      ]
    },
    {
      "cell_type": "code",
      "source": [
        "from numpy import *\n",
        "#menampilkan matriks\n",
        "M = [[0 , 1 , 1 , 0]] , [[2,3,2,1]]\n",
        "print(M)"
      ],
      "metadata": {
        "colab": {
          "base_uri": "https://localhost:8080/"
        },
        "id": "ZWEbcf2Q3XVs",
        "outputId": "89eff9dc-6c19-4044-802c-d334790efc9a"
      },
      "execution_count": 44,
      "outputs": [
        {
          "output_type": "stream",
          "name": "stdout",
          "text": [
            "([[0, 1, 1, 0]], [[2, 3, 2, 1]])\n"
          ]
        }
      ]
    },
    {
      "cell_type": "code",
      "source": [
        "a = zeros ((3,3), int)\n",
        "a[1,1] = 4\n",
        "a[2,0:2] = [4,4]\n",
        "print (a)"
      ],
      "metadata": {
        "colab": {
          "base_uri": "https://localhost:8080/"
        },
        "id": "9WIUayAs3Z-z",
        "outputId": "7e532406-331a-4262-fd15-4ddc15c128c5"
      },
      "execution_count": 45,
      "outputs": [
        {
          "output_type": "stream",
          "name": "stdout",
          "text": [
            "[[0 0 0]\n",
            " [0 4 0]\n",
            " [4 4 0]]\n"
          ]
        }
      ]
    },
    {
      "cell_type": "code",
      "source": [
        "from numpy import array\n",
        "print(' ')\n",
        "A = array([[2,3,4],[2,3,6]])\n",
        "print (A)"
      ],
      "metadata": {
        "colab": {
          "base_uri": "https://localhost:8080/"
        },
        "id": "eTELelcl3bOV",
        "outputId": "ff1a1005-638b-4f2d-fcfc-d53f325a4150"
      },
      "execution_count": 46,
      "outputs": [
        {
          "output_type": "stream",
          "name": "stdout",
          "text": [
            " \n",
            "[[2 3 4]\n",
            " [2 3 6]]\n"
          ]
        }
      ]
    },
    {
      "cell_type": "code",
      "source": [
        "import matplotlib.pyplot as plt\n",
        "from numpy import arange,sin,cos\n",
        "\n",
        "x = arange(0.0,6.0,0.1)\n",
        "plt.plot(x,sin(x),'o-',x,cos(x),'x-')\n",
        "plt.title('GRAFIK SINUSOIDAL')\n",
        "plt.xlabel('x')\n",
        "plt.ylabel('y')\n",
        "plt.legend('sinus','cosinus',loc = 0)\n",
        "plt.grid(True)\n",
        "plt.show()"
      ],
      "metadata": {
        "colab": {
          "base_uri": "https://localhost:8080/",
          "height": 573
        },
        "id": "edjPNEeN3ef7",
        "outputId": "e47323de-3978-4403-db5b-fa630f55d31b"
      },
      "execution_count": 47,
      "outputs": [
        {
          "output_type": "stream",
          "name": "stderr",
          "text": [
            "<ipython-input-47-985e0c55d632>:9: UserWarning: Legend does not support 's' instances.\n",
            "A proxy artist may be used instead.\n",
            "See: http://matplotlib.org/users/legend_guide.html#creating-artists-specifically-for-adding-to-the-legend-aka-proxy-artists\n",
            "  plt.legend('sinus','cosinus',loc = 0)\n",
            "<ipython-input-47-985e0c55d632>:9: UserWarning: Legend does not support 'i' instances.\n",
            "A proxy artist may be used instead.\n",
            "See: http://matplotlib.org/users/legend_guide.html#creating-artists-specifically-for-adding-to-the-legend-aka-proxy-artists\n",
            "  plt.legend('sinus','cosinus',loc = 0)\n",
            "<ipython-input-47-985e0c55d632>:9: UserWarning: Legend does not support 'n' instances.\n",
            "A proxy artist may be used instead.\n",
            "See: http://matplotlib.org/users/legend_guide.html#creating-artists-specifically-for-adding-to-the-legend-aka-proxy-artists\n",
            "  plt.legend('sinus','cosinus',loc = 0)\n",
            "<ipython-input-47-985e0c55d632>:9: UserWarning: Legend does not support 'u' instances.\n",
            "A proxy artist may be used instead.\n",
            "See: http://matplotlib.org/users/legend_guide.html#creating-artists-specifically-for-adding-to-the-legend-aka-proxy-artists\n",
            "  plt.legend('sinus','cosinus',loc = 0)\n"
          ]
        },
        {
          "output_type": "display_data",
          "data": {
            "text/plain": [
              "<Figure size 432x288 with 1 Axes>"
            ],
            "image/png": "[encoded data removed]"
          },
          "metadata": {
            "needs_background": "light"
          }
        }
      ]
    }
  ]
}